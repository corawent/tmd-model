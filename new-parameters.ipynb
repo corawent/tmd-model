{
 "cells": [
  {
   "cell_type": "markdown",
   "metadata": {},
   "source": [
    "# TMD Model - New Parameters\n",
    "\n",
    "From Javey 2019 Science Paper, but my own fitting\n",
    "\n",
    "Initial stuff"
   ]
  },
  {
   "cell_type": "code",
   "execution_count": 1,
   "metadata": {},
   "outputs": [],
   "source": [
    "%config InlineBackend.figure_format = 'retina' #to make inline images higher res\n",
    "\n",
    "import numpy as np\n",
    "import matplotlib.pyplot as plt\n",
    "from matplotlib import ticker\n",
    "from scipy.optimize import fsolve\n",
    "\n",
    "np.seterr(divide = 'ignore') ;"
   ]
  },
  {
   "cell_type": "markdown",
   "metadata": {},
   "source": [
    "Add my plot style in"
   ]
  },
  {
   "cell_type": "code",
   "execution_count": 2,
   "metadata": {},
   "outputs": [],
   "source": [
    "plt.style.use(['presplot_small'])"
   ]
  },
  {
   "cell_type": "markdown",
   "metadata": {},
   "source": [
    "Original TMD parameters"
   ]
  },
  {
   "cell_type": "code",
   "execution_count": 53,
   "metadata": {},
   "outputs": [],
   "source": [
    "labels=['txr','txnr','ttr_n','ttnr_n','ttr_p','ttnr_p','Cbx','me','mh','Et','Eg','Vth']\n",
    "tmds=['MoS_2','WS_2','MoSe_2','WSe_2']\n",
    "params=np.zeros((4,np.size(labels)))\n",
    "\n",
    "#original parameters\n",
    "mos2=[8,np.inf,0.11,0.05,np.inf,np.inf,2e-11,0.0,3.5]\n",
    "ws2=[2,np.inf,0.032,0.1,np.inf,np.inf,5e-12,0.0,2.4]\n",
    "mose2=[80,26.7,4.4,0.066,50,50,3e-12,1e-10,0.03]\n",
    "wse2=[16.7,1.9,0.33,0.033,1,1,2.5e-11,3.5e-10,0.06]\n",
    "\n",
    "#new parameters\n",
    "mos2=[8,np.inf,0.11,0.05,np.inf,np.inf,3.5,0.51,0.54,0.03,1.8,-15]\n",
    "ws2=[2,np.inf,0.032,0.1,np.inf,np.inf,2.4,0.35,0.34,0.03,2.1,-15]\n",
    "mose2=[80,26.7,4.4,0.066,50,50,0.03,0.50,0.58,0.03,1.5,-4]\n",
    "wse2=[16.7,1.9,0.33,0.033,1,1,0.06,0.35,0.35,0.03,1.7,0]\n",
    "\n",
    "params[0,:]=mos2\n",
    "params[1,:]=ws2\n",
    "params[2,:]=mose2\n",
    "params[3,:]=wse2\n",
    "all_plqy={}"
   ]
  },
  {
   "cell_type": "markdown",
   "metadata": {},
   "source": [
    "Constants"
   ]
  },
  {
   "cell_type": "code",
   "execution_count": 54,
   "metadata": {},
   "outputs": [],
   "source": [
    "k=1.381e-23 #J/K\n",
    "t=300 #K\n",
    "h=6.626e-34 #J/s\n",
    "hbar=h/(2*np.pi)\n",
    "m0=9.109e-31 #kg\n",
    "q=1.602e-19 #coulombs\n",
    "c=2.998e8 #m/s\n",
    "eps0=8.85e-12 #F/m"
   ]
  },
  {
   "cell_type": "markdown",
   "metadata": {},
   "source": [
    "Pick a TMD"
   ]
  },
  {
   "cell_type": "code",
   "execution_count": 85,
   "metadata": {},
   "outputs": [],
   "source": [
    "tmd=3\n",
    "V=-20\n",
    "plqy=4e-4 # MoS2 at 20 V\n",
    "plqy=4e-3 #WS2 at 20V\n",
    "plqy=2e-4 #MoSe2 at 20V\n",
    "plqy=3e-3 #MoSe2 at -20V\n",
    "plqy=5e-4 #WSe2 at 20V\n",
    "plqy=1e-2 #WSe2 at -20V"
   ]
  },
  {
   "cell_type": "markdown",
   "metadata": {},
   "source": [
    "Calculate current lifetimes"
   ]
  },
  {
   "cell_type": "code",
   "execution_count": 86,
   "metadata": {},
   "outputs": [],
   "source": [
    "#easier than making a dictionary - don't want to type in d every time\n",
    "txr=params[tmd,0]*1e-9 #s\n",
    "txnr=params[tmd,1]*1e-9 #s\n",
    "ttr_n=params[tmd,2]*1e-6 #s - for some reason was reported in µs\n",
    "ttnr_n=params[tmd,3]*1e-9 #s\n",
    "ttr_p=params[tmd,4]*1e-6 #s - same as above\n",
    "ttnr_p=params[tmd,5]*1e-9 #s\n",
    "Cbx=params[tmd,6]\n",
    "me=params[tmd,7]*m0\n",
    "mh=params[tmd,8]*m0\n",
    "Et=params[tmd,9]\n",
    "Eg=params[tmd,10]\n",
    "Vth=params[tmd,11]\n",
    "\n",
    "#calculate total lifetimes for each quasiparticle\n",
    "tx=1/(1/txnr+1/txr)\n",
    "tt_n=1/(1/ttnr_n+1/ttr_n)\n",
    "tt_p=1/(1/ttnr_p+1/ttr_p)\n",
    "\n",
    "#calculate ni\n",
    "gc2d=me/(np.pi*hbar**2)*1/(100**2) #1/cm^2*energy\n",
    "gv2d=mh/(np.pi*hbar**2)*1/(100**2) #1/cm^2*energy\n",
    "ni=(gc2d*gv2d)**0.5*(k*t)*np.exp(-q*Eg/(2*k*t))\n",
    "\n",
    "#calculate T_n and T_p\n",
    "mt_n=2*me+mh\n",
    "mt_p=me+2*mh\n",
    "mx=me+mh\n",
    "T_n=np.pi*hbar**2/(k*t)*mt_n/(me*mx)*np.exp(q*Et/(k*t))*1e4\n",
    "T_p=np.pi*hbar**2/(k*t)*mt_p/(me*mx)*np.exp(q*Et/(k*t))*1e4\n",
    "\n",
    "#for initial N, P guesses\n",
    "Cox=1/(1/(3.8*eps0*1e-2/50e-7)+1/(2*eps0*1e-2/100e-7)) #50 nm oxide=50e-7 cm; 8.85e-12F/m=8.85e-14F/cm\n",
    "N0P0=np.abs(Cox/q*(V-Vth))\n",
    "\n",
    "#solve for N,P\n",
    "if V>Vth: #then we are electron doping, ef towards CB\n",
    "    NPguess=[N0P0,ni**2/N0P0]\n",
    "\n",
    "elif V<Vth: #then we are hole doping, ef towards VB\n",
    "    NPguess=[ni**2/N0P0,N0P0]\n",
    "\n",
    "elif V==Vth:\n",
    "    NPguess=[ni,ni]\n",
    "\n",
    "\n",
    "def NPfunc(y):\n",
    "    #x[0]=N, x[1]=P\n",
    "\n",
    "    #net charged carriers\n",
    "    out = [Cox*(V-Vth)/q-(y[0]-y[1])]\n",
    "\n",
    "    #2D mass action law. Modified becuase of v small & v big numbers!\n",
    "\n",
    "    if NPguess[0]>0.01*gc2d*k*t: #N is large, P is very small – Taylor expand for P portion\n",
    "        out.append(gc2d*k*t*(np.exp(y[0]/(gc2d*k*t))-1)*y[1]-ni**2)\n",
    "\n",
    "    elif NPguess[1]>0.01*gv2d*k*t: #P is large, N is very small – Taylor expand for N portion\n",
    "        out.append(y[0]*gv2d*k*t*(np.exp(y[1]/(gv2d*k*t))-1)-ni**2)\n",
    "\n",
    "    else: #not degenerately doped\n",
    "        out.append(y[0]*y[1]-ni**2)      \n",
    "\n",
    "    return out\n",
    "\n",
    "y0, infodict, ier, mesg = fsolve(NPfunc, NPguess, full_output=True)           \n",
    "\n",
    "N=y0[0]\n",
    "P=y0[1]"
   ]
  },
  {
   "cell_type": "markdown",
   "metadata": {},
   "source": [
    "Calculate new nonradiative trion lifetime – assuming no radiative lifetime"
   ]
  },
  {
   "cell_type": "code",
   "execution_count": 83,
   "metadata": {},
   "outputs": [
    {
     "data": {
      "text/plain": [
       "1.85791276365126e-11"
      ]
     },
     "execution_count": 83,
     "metadata": {},
     "output_type": "execute_result"
    }
   ],
   "source": [
    "ttnr_n_new=plqy*N*T_n/(1/txr-plqy/tx)\n",
    "ttnr_n_new #in s"
   ]
  },
  {
   "cell_type": "code",
   "execution_count": 84,
   "metadata": {},
   "outputs": [
    {
     "data": {
      "text/plain": [
       "0.0005"
      ]
     },
     "execution_count": 84,
     "metadata": {},
     "output_type": "execute_result"
    }
   ],
   "source": [
    "1/txr/(1/tx+T_n*N/ttnr_n_new)"
   ]
  },
  {
   "cell_type": "code",
   "execution_count": 87,
   "metadata": {},
   "outputs": [
    {
     "data": {
      "text/plain": [
       "4.09889808895617e-10"
      ]
     },
     "execution_count": 87,
     "metadata": {},
     "output_type": "execute_result"
    }
   ],
   "source": [
    "ttnr_p_new=plqy*P*T_p/(1/txr-plqy/tx)\n",
    "ttnr_p_new #in s"
   ]
  },
  {
   "cell_type": "code",
   "execution_count": 88,
   "metadata": {},
   "outputs": [
    {
     "data": {
      "text/plain": [
       "0.01"
      ]
     },
     "execution_count": 88,
     "metadata": {},
     "output_type": "execute_result"
    }
   ],
   "source": [
    "1/txr/(1/tx+T_p*P/ttnr_p_new)"
   ]
  },
  {
   "cell_type": "markdown",
   "metadata": {},
   "source": [
    "Calculate new radiative trion lifetime – assuming we know total lifetime, which is nonradiative dominated"
   ]
  },
  {
   "cell_type": "code",
   "execution_count": 70,
   "metadata": {},
   "outputs": [
    {
     "data": {
      "text/plain": [
       "-2.593952501311112e-07"
      ]
     },
     "execution_count": 70,
     "metadata": {},
     "output_type": "execute_result"
    }
   ],
   "source": [
    "ttr_n_new=T_n*N/(plqy*(1/tx+T_n*N/tt_n)-1/txr)\n",
    "ttr_n_new"
   ]
  },
  {
   "cell_type": "code",
   "execution_count": 71,
   "metadata": {},
   "outputs": [
    {
     "data": {
      "text/plain": [
       "0.0002"
      ]
     },
     "execution_count": 71,
     "metadata": {},
     "output_type": "execute_result"
    }
   ],
   "source": [
    "#check PLQY\n",
    "(1/txr+T_n*N/ttr_n_new)/(1/tx+T_n*N/tt_n)"
   ]
  },
  {
   "cell_type": "code",
   "execution_count": 72,
   "metadata": {},
   "outputs": [
    {
     "data": {
      "text/plain": [
       "6.599901001484978e-11"
      ]
     },
     "execution_count": 72,
     "metadata": {},
     "output_type": "execute_result"
    }
   ],
   "source": [
    "tt_n"
   ]
  },
  {
   "cell_type": "code",
   "execution_count": 73,
   "metadata": {},
   "outputs": [
    {
     "data": {
      "text/plain": [
       "6.6e-11"
      ]
     },
     "execution_count": 73,
     "metadata": {},
     "output_type": "execute_result"
    }
   ],
   "source": [
    "ttnr_n"
   ]
  },
  {
   "cell_type": "code",
   "execution_count": 74,
   "metadata": {},
   "outputs": [
    {
     "data": {
      "text/plain": [
       "4.4e-06"
      ]
     },
     "execution_count": 74,
     "metadata": {},
     "output_type": "execute_result"
    }
   ],
   "source": [
    "ttr_n"
   ]
  },
  {
   "cell_type": "code",
   "execution_count": 75,
   "metadata": {},
   "outputs": [
    {
     "data": {
      "text/plain": [
       "0.00046894512081110956"
      ]
     },
     "execution_count": 75,
     "metadata": {},
     "output_type": "execute_result"
    }
   ],
   "source": [
    "(1/txr+T_n*N/ttr_n)/(1/tx+T_n*N/tt_n)"
   ]
  },
  {
   "cell_type": "code",
   "execution_count": 76,
   "metadata": {},
   "outputs": [
    {
     "data": {
      "text/plain": [
       "0.00045397255824896666"
      ]
     },
     "execution_count": 76,
     "metadata": {},
     "output_type": "execute_result"
    }
   ],
   "source": [
    "(1/txr)/(1/tx+T_n*N/tt_n)"
   ]
  },
  {
   "cell_type": "markdown",
   "metadata": {},
   "source": [
    "MoS2 - this gives 0.002 where we should get PLQY 0.0004. This shows that tt_n must be too long. Low enough PLQY cannot be achieved with any value of ttr_n. Should use previous method and fit for ttnr.\n",
    "\n",
    "WS2 - this gives 0.01 where we should get PLQY 0.004. This shows that tt_n must be too long. Should use previous method and fit for ttnr."
   ]
  },
  {
   "cell_type": "code",
   "execution_count": null,
   "metadata": {},
   "outputs": [],
   "source": [
    "#new parameters\n",
    "mos2=[8,np.inf,np.inf,0.008,np.inf,np.inf,3.5,0.51,0.54,0.03,1.8,-15]\n",
    "ws2=[2,np.inf,np.inf,0.031,np.inf,np.inf,2.4,0.35,0.34,0.03,2.1,-20]\n",
    "mose2=[80,26.7,np.inf,0.029,np.inf,0.3,0.03,0.50,0.58,0.03,1.5,-4]\n",
    "wse2=[16.7,1.9,np.inf,0.018,np.inf,0.4,0.06,0.35,0.35,0.03,1.7,0]"
   ]
  }
 ],
 "metadata": {
  "kernelspec": {
   "display_name": "Python 3",
   "language": "python",
   "name": "python3"
  },
  "language_info": {
   "codemirror_mode": {
    "name": "ipython",
    "version": 3
   },
   "file_extension": ".py",
   "mimetype": "text/x-python",
   "name": "python",
   "nbconvert_exporter": "python",
   "pygments_lexer": "ipython3",
   "version": "3.7.7"
  }
 },
 "nbformat": 4,
 "nbformat_minor": 4
}
